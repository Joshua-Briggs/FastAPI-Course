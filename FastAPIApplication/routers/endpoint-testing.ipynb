{
 "cells": [
  {
   "cell_type": "markdown",
   "metadata": {},
   "source": [
    "This piece of code will find the local session, then activate the endpoint from `FastAPI`, it then `streams` this by iterating over the response and printing each `chunk`."
   ]
  },
  {
   "cell_type": "code",
   "execution_count": 14,
   "metadata": {},
   "outputs": [],
   "source": [
    "import requests\n",
    "\n",
    "def get_stream(query: str):\n",
    "    localsession = requests.Session()\n",
    "    with localsession.get(\n",
    "        f\"http://localhost:8000/agent-exec/stream-response?query={query}\",\n",
    "        stream=True\n",
    "    ) as response:\n",
    "        for line in response.iter_content():\n",
    "            print(line.decode(\"utf-8\"), end=\"\", flush=True) \n",
    "\n",
    "# replace end = \"\" with end = \" | \" to prove streaming"
   ]
  },
  {
   "cell_type": "markdown",
   "metadata": {},
   "source": [
    "You can test this piece of code down below, the intial element should be the function, then the final answer's content."
   ]
  },
  {
   "cell_type": "code",
   "execution_count": 19,
   "metadata": {},
   "outputs": [
    {
     "name": "stdout",
     "output_type": "stream",
     "text": [
      "add{\"x\":5,\"y\":5}\n",
      "\n",
      "final_answer{\"answer\":\"The result of 5 plus 5 is 10.\",\"tools_used\":[\"functions.add\"]}"
     ]
    }
   ],
   "source": [
    "get_stream(\"what is 5+5\")"
   ]
  }
 ],
 "metadata": {
  "kernelspec": {
   "display_name": ".venv",
   "language": "python",
   "name": "python3"
  },
  "language_info": {
   "codemirror_mode": {
    "name": "ipython",
    "version": 3
   },
   "file_extension": ".py",
   "mimetype": "text/x-python",
   "name": "python",
   "nbconvert_exporter": "python",
   "pygments_lexer": "ipython3",
   "version": "3.12.7"
  }
 },
 "nbformat": 4,
 "nbformat_minor": 2
}
